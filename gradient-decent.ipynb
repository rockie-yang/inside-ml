{
 "cells": [
  {
   "cell_type": "markdown",
   "metadata": {},
   "source": [
    "# matplotlib \n",
    "\n",
    "matplotlib is a library to plot data"
   ]
  },
  {
   "cell_type": "code",
   "execution_count": 1,
   "metadata": {
    "collapsed": true
   },
   "outputs": [],
   "source": [
    "import matplotlib.pyplot as plt\n",
    "\n",
    "def plot_chart(x, y, xLabel = '', yLabel='', title=''):\n",
    "    \"\"\"\n",
    "    Plot a chart for x, y. \n",
    "    \n",
    "    The number of elements in x and y shall be the same. \n",
    "    \"\"\"\n",
    "    plt.plot(x, y)\n",
    "    plt.xlabel(xLabel)\n",
    "    plt.ylabel(yLabel)\n",
    "    plt.title(title)\n",
    "    plt.show()"
   ]
  },
  {
   "cell_type": "markdown",
   "metadata": {},
   "source": [
    "# plot a sample graph\n",
    "\n",
    "x is index of points\n",
    "\n",
    "y is the value, which correlated with x and random value"
   ]
  },
  {
   "cell_type": "code",
   "execution_count": 2,
   "metadata": {},
   "outputs": [
    {
     "data": {
      "image/png": "[encoded data removed]",
      "text/plain": [
       "<matplotlib.figure.Figure at 0x7f5a1140f630>"
      ]
     },
     "metadata": {},
     "output_type": "display_data"
    }
   ],
   "source": [
    "import random\n",
    "num_points = 1000\n",
    "x = range(num_points)\n",
    "y = [random.random()*i + i for i in x]\n",
    "plot_chart(x, y)"
   ]
  },
  {
   "cell_type": "markdown",
   "metadata": {},
   "source": [
    "# Compute mean error\n",
    "\n",
    "for given paramter `m` and `b` for all `points` in equeation \n",
    "\n",
    "\n",
    "$$\n",
    "\\begin{align*}\n",
    "y = mx + b\n",
    "\\end{align*}\n",
    "$$\n",
    "\n",
    "computer the mean error"
   ]
  },
  {
   "cell_type": "code",
   "execution_count": 3,
   "metadata": {
    "collapsed": true
   },
   "outputs": [],
   "source": [
    "# y = mx + b\n",
    "# m is slope, b is y-intercept\n",
    "def mean_error(b, m, points):\n",
    "    totalError = 0\n",
    "    for i in range(0, len(points)):\n",
    "        x = points[i, 0]\n",
    "        y = points[i, 1]\n",
    "        totalError += (y - (m * x + b)) ** 2\n",
    "    return totalError / float(len(points))"
   ]
  },
  {
   "cell_type": "markdown",
   "metadata": {},
   "source": [
    "# calculate gradient (the delivetive)\n",
    "\n",
    "for current m and b, calculate the gradient"
   ]
  },
  {
   "cell_type": "code",
   "execution_count": 4,
   "metadata": {
    "collapsed": true
   },
   "outputs": [],
   "source": [
    "def gradient(b_current, m_current, points):\n",
    "    b_gradient = 0\n",
    "    m_gradient = 0\n",
    "    N = float(len(points))\n",
    "    for i in range(0, len(points)):\n",
    "        x = points[i, 0]\n",
    "        y = points[i, 1]\n",
    "        b_gradient += -(2/N) * (y - ((m_current * x) + b_current))\n",
    "        m_gradient += -(2/N) * x * (y - ((m_current * x) + b_current))\n",
    "    return [m_gradient, b_gradient]"
   ]
  },
  {
   "cell_type": "code",
   "execution_count": 52,
   "metadata": {},
   "outputs": [],
   "source": [
    "theta = np.zeros(2)\n",
    "x = points[:, 0]"
   ]
  },
  {
   "cell_type": "code",
   "execution_count": 54,
   "metadata": {},
   "outputs": [
    {
     "data": {
      "text/plain": [
       "array([ 32.50234527,  53.42680403,  61.53035803,  47.47563963,\n",
       "        59.81320787,  55.14218841,  52.21179669,  39.29956669,\n",
       "        48.10504169,  52.55001444,  45.41973014,  54.35163488,\n",
       "        44.1640495 ,  58.16847072,  56.72720806,  48.95588857,\n",
       "        44.68719623,  60.29732685,  45.61864377,  38.81681754,\n",
       "        66.18981661,  65.41605175,  47.48120861,  41.57564262,\n",
       "        51.84518691,  59.37082201,  57.31000344,  63.61556125,\n",
       "        46.73761941,  50.55676015,  52.22399609,  35.56783005,\n",
       "        42.43647694,  58.16454011,  57.50444762,  45.44053073,\n",
       "        61.89622268,  33.09383174,  36.43600951,  37.67565486,\n",
       "        44.55560838,  43.31828263,  50.07314563,  43.87061265,\n",
       "        62.99748075,  32.66904376,  40.16689901,  53.57507753,\n",
       "        33.86421497,  64.70713867,  38.11982403,  44.50253806,\n",
       "        40.59953838,  41.72067636,  51.08863468,  55.0780959 ,\n",
       "        41.37772653,  62.49469743,  49.20388754,  41.10268519,\n",
       "        41.18201611,  50.18638949,  52.37844622,  50.13548549,\n",
       "        33.64470601,  39.55790122,  56.13038882,  57.36205213,\n",
       "        60.26921439,  35.67809389,  31.588117  ,  53.66093226,\n",
       "        46.68222865,  43.10782022,  70.34607562,  44.49285588,\n",
       "        57.5045333 ,  36.93007661,  55.80573336,  38.95476907,\n",
       "        56.9012147 ,  56.86890066,  34.3331247 ,  59.04974121,\n",
       "        57.78822399,  54.28232871,  51.0887199 ,  50.28283635,\n",
       "        44.21174175,  38.00548801,  32.94047994,  53.69163957,\n",
       "        68.76573427,  46.2309665 ,  68.31936082,  50.03017434,\n",
       "        49.23976534,  50.03957594,  48.14985889,  25.12848465])"
      ]
     },
     "execution_count": 54,
     "metadata": {},
     "output_type": "execute_result"
    }
   ],
   "source": [
    "x"
   ]
  },
  {
   "cell_type": "code",
   "execution_count": 53,
   "metadata": {},
   "outputs": [],
   "source": []
  },
  {
   "cell_type": "markdown",
   "metadata": {},
   "source": [
    "# gradient decent\n",
    "\n",
    "gradient decent for `points`, with `starting_m` and `starting_b`, and `learning_rate`\n",
    "\n",
    "run maximum interation `max_num_iterations`. interation will stop is the impovement is smaller then `epsilon`\n",
    "\n",
    "the return value has final `[m, b, errors]`\n",
    "\n",
    "- errors contains the error for each iteration\n",
    "- `len(errors)` is the number interation ran"
   ]
  },
  {
   "cell_type": "code",
   "execution_count": 9,
   "metadata": {
    "collapsed": true
   },
   "outputs": [],
   "source": [
    "def gradient_descent(points, starting_m, starting_b, learning_rate, max_num_iterations, epsilon=0.01):\n",
    "    b = starting_b\n",
    "    m = starting_m\n",
    "    errors = []\n",
    "    \n",
    "    # This is the initial mean error\n",
    "    previous_error = mean_error(b, m, points)\n",
    "    errors.append(previous_error)\n",
    "    \n",
    "    \n",
    "    for i in range(max_num_iterations):\n",
    "        m_gradient, b_gradient = gradient(b, m, np.array(points))\n",
    "        \n",
    "        # decent towards gradient\n",
    "        #\n",
    "        # when the slope is sharp (large derivitive), value m and b will change faster\n",
    "        m = m - (learning_rate * m_gradient)\n",
    "        b = b - (learning_rate * b_gradient)\n",
    "        \n",
    "        error = mean_error(b, m, points)\n",
    "        errors.append(error)\n",
    "        \n",
    "        improvement = previous_error / error - 1.0        \n",
    "        \n",
    "        previous_error = error\n",
    "\n",
    "        if improvement < epsilon:\n",
    "            print('improvement already small enough, stop run', improvement)\n",
    "            break\n",
    "        \n",
    "    return [m, b, errors]"
   ]
  },
  {
   "cell_type": "markdown",
   "metadata": {},
   "source": [
    "# Load data"
   ]
  },
  {
   "cell_type": "code",
   "execution_count": 49,
   "metadata": {
    "collapsed": true
   },
   "outputs": [],
   "source": [
    "import numpy as np\n",
    "\n",
    "points = np.genfromtxt(\"data/gradient-decent.csv\", delimiter=\",\")"
   ]
  },
  {
   "cell_type": "code",
   "execution_count": 48,
   "metadata": {},
   "outputs": [
    {
     "name": "stdout",
     "output_type": "stream",
     "text": [
      "Starting gradient descent at intial m = 0,  b = 0  ...\n",
      "improvement already small enough, stop run 3.71669376162e-05\n",
      "After 12 iterations m = 1.4781595857319891, b = 0.029714049245227046, error = 112.65166489759584\n"
     ]
    }
   ],
   "source": [
    "learning_rate = 0.0001\n",
    "initial_b = 0 # initial y-intercept guess\n",
    "initial_m = 0 # initial slope guess\n",
    "num_iterations = 1000\n",
    "epsilon = 0.0001\n",
    "\n",
    "msg = \"Starting gradient descent at intial m = {0},  b = {1}\".format(\n",
    "    initial_m, initial_b)\n",
    "print(msg, \" ...\")\n",
    "\n",
    "[m, b, errors] = gradient_descent(points, initial_m, initial_b, learning_rate, num_iterations, epsilon)\n",
    "msg = \"After {0} iterations m = {1}, b = {2}, error = {3}\".format(\n",
    "    len(errors), m, b, errors[-1])\n",
    "print (msg)\n"
   ]
  },
  {
   "cell_type": "markdown",
   "metadata": {},
   "source": [
    "# scatterplot for original points"
   ]
  },
  {
   "cell_type": "code",
   "execution_count": 27,
   "metadata": {},
   "outputs": [
    {
     "data": {
      "image/png": "[encoded data removed]",
      "text/plain": [
       "<matplotlib.figure.Figure at 0x7f59ed0b5fd0>"
      ]
     },
     "metadata": {},
     "output_type": "display_data"
    }
   ],
   "source": [
    "x = [point[0] for point in points]\n",
    "y = [point[1] for point in points]\n",
    "\n",
    "plt.plot(x, y, 'o', alpha=0.5)\n",
    "plt.show()"
   ]
  },
  {
   "cell_type": "markdown",
   "metadata": {},
   "source": [
    "# Calculate the line "
   ]
  },
  {
   "cell_type": "code",
   "execution_count": 44,
   "metadata": {
    "collapsed": true
   },
   "outputs": [],
   "source": [
    "\n",
    "min_x, max_x = min(x), max(x)\n",
    "\n",
    "x0 = min_x\n",
    "y0 = m * x0 + b\n",
    "x1 = max_x\n",
    "y1 = m * x1 + b"
   ]
  },
  {
   "cell_type": "markdown",
   "metadata": {},
   "source": [
    "# Plot gradient decent result"
   ]
  },
  {
   "cell_type": "code",
   "execution_count": 46,
   "metadata": {},
   "outputs": [
    {
     "data": {
      "image/png": "[encoded data removed]",
      "text/plain": [
       "<matplotlib.figure.Figure at 0x7f59f80a0588>"
      ]
     },
     "metadata": {},
     "output_type": "display_data"
    }
   ],
   "source": [
    "plt.plot(x, y, 'o', alpha=0.5)\n",
    "plt.plot([x0, x1], [y0, y1])\n",
    "\n",
    "plt.show()"
   ]
  },
  {
   "cell_type": "markdown",
   "metadata": {},
   "source": [
    "# Chart number of iteration over mean error"
   ]
  },
  {
   "cell_type": "code",
   "execution_count": 20,
   "metadata": {},
   "outputs": [
    {
     "data": {
      "image/png": "[encoded data removed]",
      "text/plain": [
       "<matplotlib.figure.Figure at 0x7f59ed090780>"
      ]
     },
     "metadata": {},
     "output_type": "display_data"
    }
   ],
   "source": [
    "plot_chart(range(len(errors)), errors)"
   ]
  }
 ],
 "metadata": {
  "kernelspec": {
   "display_name": "Python 3",
   "language": "python",
   "name": "python3"
  },
  "language_info": {
   "codemirror_mode": {
    "name": "ipython",
    "version": 3
   },
   "file_extension": ".py",
   "mimetype": "text/x-python",
   "name": "python",
   "nbconvert_exporter": "python",
   "pygments_lexer": "ipython3",
   "version": "3.6.2"
  }
 },
 "nbformat": 4,
 "nbformat_minor": 2
}
